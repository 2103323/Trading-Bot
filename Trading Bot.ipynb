{
 "cells": [
  {
   "cell_type": "code",
   "execution_count": 1,
   "id": "e0622841",
   "metadata": {},
   "outputs": [],
   "source": [
    "api_key =\"your key\"\n",
    "secret_key = \"your key\""
   ]
  },
  {
   "attachments": {},
   "cell_type": "markdown",
   "id": "1b310f1b",
   "metadata": {},
   "source": [
    "# Creating & Running a Trading Bot"
   ]
  },
  {
   "cell_type": "code",
   "execution_count": 2,
   "id": "646e1c94",
   "metadata": {},
   "outputs": [],
   "source": [
    "import pandas as pd\n",
    "from binance.client import Client\n",
    "from binance import ThreadedWebsocketManager\n",
    "import numpy as np"
   ]
  },
  {
   "cell_type": "code",
   "execution_count": 3,
   "id": "5ecc1f97",
   "metadata": {},
   "outputs": [],
   "source": [
    "client = Client(api_key = api_key, api_secret = secret_key, tld = \"com\", testnet = True)"
   ]
  },
  {
   "cell_type": "code",
   "execution_count": 4,
   "id": "a173505d",
   "metadata": {},
   "outputs": [
    {
     "data": {
      "text/plain": [
       "{'makerCommission': 0,\n",
       " 'takerCommission': 0,\n",
       " 'buyerCommission': 0,\n",
       " 'sellerCommission': 0,\n",
       " 'commissionRates': {'maker': '0.00000000',\n",
       "  'taker': '0.00000000',\n",
       "  'buyer': '0.00000000',\n",
       "  'seller': '0.00000000'},\n",
       " 'canTrade': True,\n",
       " 'canWithdraw': False,\n",
       " 'canDeposit': False,\n",
       " 'brokered': False,\n",
       " 'requireSelfTradePrevention': False,\n",
       " 'updateTime': 1687976942969,\n",
       " 'accountType': 'SPOT',\n",
       " 'balances': [{'asset': 'BNB',\n",
       "   'free': '1000.00000000',\n",
       "   'locked': '0.00000000'},\n",
       "  {'asset': 'BTC', 'free': '1.20000000', 'locked': '0.00000000'},\n",
       "  {'asset': 'BUSD', 'free': '10000.00000000', 'locked': '0.00000000'},\n",
       "  {'asset': 'ETH', 'free': '100.00000000', 'locked': '0.00000000'},\n",
       "  {'asset': 'LTC', 'free': '500.00000000', 'locked': '0.00000000'},\n",
       "  {'asset': 'TRX', 'free': '500000.00000000', 'locked': '0.00000000'},\n",
       "  {'asset': 'USDT', 'free': '3952.22187160', 'locked': '0.00000000'},\n",
       "  {'asset': 'XRP', 'free': '50000.00000000', 'locked': '0.00000000'}],\n",
       " 'permissions': ['SPOT']}"
      ]
     },
     "execution_count": 4,
     "metadata": {},
     "output_type": "execute_result"
    }
   ],
   "source": [
    "client.get_account()"
   ]
  },
  {
   "attachments": {},
   "cell_type": "markdown",
   "id": "42420537",
   "metadata": {},
   "source": [
    "A simple random Trading Bot: Stream Market Data and buy 0.9 BTC(with USDT) once condition x (Price and/or Volume) has been met.Then stop the Stream\n",
    "\n",
    "Condition x:Price(rounded down) is divisible by 10 without remainder"
   ]
  },
  {
   "cell_type": "code",
   "execution_count": 5,
   "id": "4054f77f",
   "metadata": {},
   "outputs": [
    {
     "data": {
      "text/plain": [
       "0"
      ]
     },
     "execution_count": 5,
     "metadata": {},
     "output_type": "execute_result"
    }
   ],
   "source": [
    "40210 % 10"
   ]
  },
  {
   "cell_type": "code",
   "execution_count": 6,
   "id": "b70193e8",
   "metadata": {},
   "outputs": [],
   "source": [
    "# init and start the WebSocket\n",
    "twn = ThreadedWebsocketManager()\n",
    "twn.start()"
   ]
  },
  {
   "cell_type": "code",
   "execution_count": 9,
   "id": "05fe4330",
   "metadata": {},
   "outputs": [],
   "source": [
    "def simple_bot(msg):\n",
    "    '''define how to process incoming WebSocket message'''\n",
    "    time = pd.to_datetime(msg[\"E\"],unit = \"ms\")\n",
    "    price = float(msg[\"c\"])\n",
    "    \n",
    "    print(\"Time: {} | Price: {}\".format(time,price))\n",
    "    \n",
    "    if int(price) % 10 == 0:\n",
    "        order = client.create_order(symbol = \"BTCUSDT\",side = \"BUY\", type = \"MARKET\",quantity = 0.9)\n",
    "        print(\"\\n\" + 50 * \"-\")\n",
    "        print(\"Buy {} BTC for {} USDT\".format(order[\"executedQty\"],order[\"cummulativeQuoteQty\"]))\n",
    "        print(50 * \"-\" + \"\\n\")\n",
    "        \n",
    "        twn.stop()"
   ]
  },
  {
   "cell_type": "code",
   "execution_count": 12,
   "id": "1b4a0adf",
   "metadata": {},
   "outputs": [
    {
     "data": {
      "text/plain": [
       "'btcusdt@miniTicker'"
      ]
     },
     "execution_count": 12,
     "metadata": {},
     "output_type": "execute_result"
    },
    {
     "name": "stdout",
     "output_type": "stream",
     "text": [
      "Time: 2023-06-28 18:36:22.870000 | Price: 30225.8\n",
      "Time: 2023-06-28 18:36:23.859000 | Price: 30225.8\n",
      "Time: 2023-06-28 18:36:23.859000 | Price: 30225.8\n",
      "Time: 2023-06-28 18:36:24.281000 | Price: 30225.81\n",
      "Time: 2023-06-28 18:36:25.878000 | Price: 30225.8\n",
      "Time: 2023-06-28 18:36:25.964000 | Price: 30225.8\n",
      "Time: 2023-06-28 18:36:27.318000 | Price: 30225.81\n",
      "Time: 2023-06-28 18:36:28.876000 | Price: 30225.8\n",
      "Time: 2023-06-28 18:36:29.562000 | Price: 30225.8\n",
      "Time: 2023-06-28 18:36:30.442000 | Price: 30225.8\n",
      "Time: 2023-06-28 18:36:31.728000 | Price: 30225.81\n",
      "Time: 2023-06-28 18:36:33.629000 | Price: 30225.8\n",
      "Time: 2023-06-28 18:36:34.521000 | Price: 30225.8\n",
      "Time: 2023-06-28 18:36:35.261000 | Price: 30225.8\n",
      "Time: 2023-06-28 18:36:36.396000 | Price: 30222.17\n",
      "Time: 2023-06-28 18:36:37.101000 | Price: 30221.48\n",
      "Time: 2023-06-28 18:36:39.228000 | Price: 30221.22\n",
      "Time: 2023-06-28 18:36:41.554000 | Price: 30221.21\n",
      "Time: 2023-06-28 18:36:43.711000 | Price: 30221.21\n",
      "Time: 2023-06-28 18:36:45.420000 | Price: 30221.21\n",
      "Time: 2023-06-28 18:36:46.103000 | Price: 30217.84\n",
      "Time: 2023-06-28 18:36:46.711000 | Price: 30217.34\n",
      "Time: 2023-06-28 18:36:48.234000 | Price: 30216.86\n",
      "Time: 2023-06-28 18:36:48.554000 | Price: 30216.85\n",
      "Time: 2023-06-28 18:36:50.101000 | Price: 30216.85\n",
      "Time: 2023-06-28 18:36:51.142000 | Price: 30216.86\n",
      "Time: 2023-06-28 18:36:52.040000 | Price: 30216.85\n",
      "Time: 2023-06-28 18:36:53.192000 | Price: 30216.85\n",
      "Time: 2023-06-28 18:36:55.750000 | Price: 30216.86\n",
      "Time: 2023-06-28 18:36:56.728000 | Price: 30218.02\n",
      "Time: 2023-06-28 18:36:57.056000 | Price: 30221.11\n",
      "Time: 2023-06-28 18:36:58.284000 | Price: 30221.21\n",
      "Time: 2023-06-28 18:36:59.149000 | Price: 30221.21\n",
      "Time: 2023-06-28 18:37:00.655000 | Price: 30221.21\n",
      "Time: 2023-06-28 18:37:01.213000 | Price: 30221.21\n",
      "Time: 2023-06-28 18:37:02.654000 | Price: 30221.21\n",
      "Time: 2023-06-28 18:37:03.689000 | Price: 30221.21\n",
      "Time: 2023-06-28 18:37:04.949000 | Price: 30221.22\n",
      "Time: 2023-06-28 18:37:05.536000 | Price: 30221.22\n",
      "Time: 2023-06-28 18:37:06.730000 | Price: 30221.22\n",
      "Time: 2023-06-28 18:37:08.125000 | Price: 30221.21\n",
      "Time: 2023-06-28 18:37:08.734000 | Price: 30225.99\n",
      "Time: 2023-06-28 18:37:10.092000 | Price: 30231.05\n",
      "Time: 2023-06-28 18:37:11.075000 | Price: 30231.04\n",
      "Time: 2023-06-28 18:37:12.114000 | Price: 30231.04\n",
      "Time: 2023-06-28 18:37:12.694000 | Price: 30231.05\n",
      "Time: 2023-06-28 18:37:13.460000 | Price: 30231.04\n",
      "Time: 2023-06-28 18:37:14.827000 | Price: 30231.04\n",
      "Time: 2023-06-28 18:37:16.103000 | Price: 30231.04\n",
      "Time: 2023-06-28 18:37:16.397000 | Price: 30231.04\n",
      "Time: 2023-06-28 18:37:17.980000 | Price: 30231.04\n",
      "Time: 2023-06-28 18:37:19.115000 | Price: 30231.05\n",
      "Time: 2023-06-28 18:37:20.309000 | Price: 30231.05\n",
      "Time: 2023-06-28 18:37:20.933000 | Price: 30231.05\n",
      "Time: 2023-06-28 18:37:22.501000 | Price: 30231.05\n",
      "Time: 2023-06-28 18:37:23.389000 | Price: 30231.04\n",
      "Time: 2023-06-28 18:37:24.159000 | Price: 30231.04\n",
      "Time: 2023-06-28 18:37:25.389000 | Price: 30231.04\n",
      "Time: 2023-06-28 18:37:26.390000 | Price: 30231.04\n",
      "Time: 2023-06-28 18:37:28.821000 | Price: 30231.05\n",
      "Time: 2023-06-28 18:37:31.295000 | Price: 30231.05\n",
      "Time: 2023-06-28 18:37:31.939000 | Price: 30231.04\n",
      "Time: 2023-06-28 18:37:33.982000 | Price: 30231.05\n",
      "Time: 2023-06-28 18:37:34.073000 | Price: 30231.05\n",
      "Time: 2023-06-28 18:37:35.300000 | Price: 30231.04\n",
      "Time: 2023-06-28 18:37:36.917000 | Price: 30231.04\n",
      "Time: 2023-06-28 18:37:38.101000 | Price: 30231.04\n",
      "Time: 2023-06-28 18:37:38.216000 | Price: 30231.05\n",
      "Time: 2023-06-28 18:37:39.905000 | Price: 30231.04\n",
      "Time: 2023-06-28 18:37:40.877000 | Price: 30231.04\n",
      "Time: 2023-06-28 18:37:41.720000 | Price: 30231.04\n",
      "Time: 2023-06-28 18:37:42.743000 | Price: 30231.05\n",
      "Time: 2023-06-28 18:37:44.879000 | Price: 30231.04\n",
      "Time: 2023-06-28 18:37:46.554000 | Price: 30231.05\n",
      "Time: 2023-06-28 18:37:46.696000 | Price: 30231.04\n",
      "Time: 2023-06-28 18:37:48.135000 | Price: 30231.04\n",
      "Time: 2023-06-28 18:37:49.299000 | Price: 30231.04\n"
     ]
    }
   ],
   "source": [
    "#SUBSCRIBE TO THE STREAM\n",
    "twn.start_symbol_miniticker_socket(callback = simple_bot,symbol = \"BTCUSDT\")"
   ]
  },
  {
   "cell_type": "code",
   "execution_count": 13,
   "id": "8614928a",
   "metadata": {},
   "outputs": [
    {
     "data": {
      "text/plain": [
       "{'makerCommission': 0,\n",
       " 'takerCommission': 0,\n",
       " 'buyerCommission': 0,\n",
       " 'sellerCommission': 0,\n",
       " 'commissionRates': {'maker': '0.00000000',\n",
       "  'taker': '0.00000000',\n",
       "  'buyer': '0.00000000',\n",
       "  'seller': '0.00000000'},\n",
       " 'canTrade': True,\n",
       " 'canWithdraw': False,\n",
       " 'canDeposit': False,\n",
       " 'brokered': False,\n",
       " 'requireSelfTradePrevention': False,\n",
       " 'updateTime': 1687977157915,\n",
       " 'accountType': 'SPOT',\n",
       " 'balances': [{'asset': 'BNB',\n",
       "   'free': '1000.00000000',\n",
       "   'locked': '0.00000000'},\n",
       "  {'asset': 'BTC', 'free': '1.30000000', 'locked': '0.00000000'},\n",
       "  {'asset': 'BUSD', 'free': '10000.00000000', 'locked': '0.00000000'},\n",
       "  {'asset': 'ETH', 'free': '100.00000000', 'locked': '0.00000000'},\n",
       "  {'asset': 'LTC', 'free': '500.00000000', 'locked': '0.00000000'},\n",
       "  {'asset': 'TRX', 'free': '500000.00000000', 'locked': '0.00000000'},\n",
       "  {'asset': 'USDT', 'free': '928.14001444', 'locked': '0.00000000'},\n",
       "  {'asset': 'XRP', 'free': '50000.00000000', 'locked': '0.00000000'}],\n",
       " 'permissions': ['SPOT']}"
      ]
     },
     "execution_count": 13,
     "metadata": {},
     "output_type": "execute_result"
    },
    {
     "name": "stdout",
     "output_type": "stream",
     "text": [
      "Time: 2023-06-28 18:37:50.608000 | Price: 30231.04\n",
      "Time: 2023-06-28 18:37:52.018000 | Price: 30231.04\n",
      "Time: 2023-06-28 18:37:52.228000 | Price: 30231.04\n",
      "Time: 2023-06-28 18:37:53.589000 | Price: 30231.04\n",
      "Time: 2023-06-28 18:37:56.782000 | Price: 30231.05\n",
      "Time: 2023-06-28 18:37:57.756000 | Price: 30239.01\n",
      "Time: 2023-06-28 18:37:58.695000 | Price: 30241.99\n",
      "Time: 2023-06-28 18:37:59.630000 | Price: 30242.87\n",
      "Time: 2023-06-28 18:38:00.730000 | Price: 30242.92\n",
      "Time: 2023-06-28 18:38:01.796000 | Price: 30237.7\n",
      "Time: 2023-06-28 18:38:02.327000 | Price: 30234.48\n",
      "Time: 2023-06-28 18:38:03.733000 | Price: 30234.0\n",
      "Time: 2023-06-28 18:38:04.440000 | Price: 30234.0\n",
      "Time: 2023-06-28 18:38:05.963000 | Price: 30234.0\n",
      "Time: 2023-06-28 18:38:06.875000 | Price: 30234.0\n",
      "Time: 2023-06-28 18:38:07.771000 | Price: 30234.0\n",
      "Time: 2023-06-28 18:38:08.742000 | Price: 30234.01\n",
      "Time: 2023-06-28 18:38:09.975000 | Price: 30234.01\n",
      "Time: 2023-06-28 18:38:10.961000 | Price: 30234.01\n",
      "Time: 2023-06-28 18:38:11.548000 | Price: 30234.0\n",
      "Time: 2023-06-28 18:38:12.960000 | Price: 30234.01\n",
      "Time: 2023-06-28 18:38:13.965000 | Price: 30239.53\n",
      "Time: 2023-06-28 18:38:14.751000 | Price: 30241.99\n",
      "Time: 2023-06-28 18:38:15.669000 | Price: 30243.08\n",
      "Time: 2023-06-28 18:38:16.037000 | Price: 30243.08\n",
      "Time: 2023-06-28 18:38:17.835000 | Price: 30243.88\n",
      "Time: 2023-06-28 18:38:18.949000 | Price: 30243.88\n",
      "Time: 2023-06-28 18:38:19.756000 | Price: 30243.87\n",
      "Time: 2023-06-28 18:38:20.991000 | Price: 30243.88\n",
      "Time: 2023-06-28 18:38:21.131000 | Price: 30243.88\n",
      "Time: 2023-06-28 18:38:22.745000 | Price: 30243.88\n",
      "Time: 2023-06-28 18:38:24.037000 | Price: 30243.88\n",
      "Time: 2023-06-28 18:38:24.978000 | Price: 30243.87\n",
      "Time: 2023-06-28 18:38:25.929000 | Price: 30243.88\n",
      "Time: 2023-06-28 18:38:26.996000 | Price: 30243.88\n",
      "Time: 2023-06-28 18:38:27.905000 | Price: 30243.88\n",
      "Time: 2023-06-28 18:38:28.728000 | Price: 30243.87\n",
      "Time: 2023-06-28 18:38:29.334000 | Price: 30243.88\n",
      "Time: 2023-06-28 18:38:30.851000 | Price: 30243.88\n",
      "Time: 2023-06-28 18:38:31.109000 | Price: 30243.87\n",
      "Time: 2023-06-28 18:38:33.062000 | Price: 30243.87\n",
      "Time: 2023-06-28 18:38:33.921000 | Price: 30243.87\n",
      "Time: 2023-06-28 18:38:34.946000 | Price: 30243.87\n",
      "Time: 2023-06-28 18:38:35.997000 | Price: 30243.88\n",
      "Time: 2023-06-28 18:38:37.081000 | Price: 30243.87\n",
      "Time: 2023-06-28 18:38:37.180000 | Price: 30243.87\n",
      "Time: 2023-06-28 18:38:39.307000 | Price: 30243.87\n",
      "Time: 2023-06-28 18:38:40.182000 | Price: 30243.07\n",
      "Time: 2023-06-28 18:38:41.017000 | Price: 30243.08\n",
      "Time: 2023-06-28 18:38:41.843000 | Price: 30243.08\n",
      "Time: 2023-06-28 18:38:44.395000 | Price: 30243.08\n",
      "Time: 2023-06-28 18:38:45.632000 | Price: 30243.07\n",
      "Time: 2023-06-28 18:38:45.844000 | Price: 30243.08\n",
      "Time: 2023-06-28 18:38:47.043000 | Price: 30243.07\n",
      "Time: 2023-06-28 18:38:48.069000 | Price: 30243.07\n",
      "Time: 2023-06-28 18:38:48.729000 | Price: 30243.07\n",
      "Time: 2023-06-28 18:38:50.389000 | Price: 30241.11\n",
      "Time: 2023-06-28 18:38:51.467000 | Price: 30237.05\n",
      "Time: 2023-06-28 18:38:52.278000 | Price: 30235.11\n",
      "Time: 2023-06-28 18:38:53.634000 | Price: 30234.0\n",
      "Time: 2023-06-28 18:38:55.142000 | Price: 30234.01\n",
      "Time: 2023-06-28 18:38:55.792000 | Price: 30234.0\n",
      "Time: 2023-06-28 18:38:57.278000 | Price: 30234.0\n",
      "Time: 2023-06-28 18:38:57.679000 | Price: 30234.0\n",
      "Time: 2023-06-28 18:38:59.180000 | Price: 30234.01\n",
      "Time: 2023-06-28 18:39:00.022000 | Price: 30234.0\n",
      "Time: 2023-06-28 18:39:00.818000 | Price: 30234.0\n",
      "Time: 2023-06-28 18:39:02.117000 | Price: 30234.01\n",
      "Time: 2023-06-28 18:39:02.997000 | Price: 30234.0\n",
      "Time: 2023-06-28 18:39:03.655000 | Price: 30234.0\n",
      "Time: 2023-06-28 18:39:05.494000 | Price: 30234.0\n",
      "Time: 2023-06-28 18:39:07.177000 | Price: 30234.0\n",
      "Time: 2023-06-28 18:39:08.006000 | Price: 30234.01\n",
      "Time: 2023-06-28 18:39:08.643000 | Price: 30234.0\n",
      "Time: 2023-06-28 18:39:09.311000 | Price: 30234.01\n",
      "Time: 2023-06-28 18:39:11.028000 | Price: 30234.0\n",
      "Time: 2023-06-28 18:39:12.065000 | Price: 30234.0\n",
      "Time: 2023-06-28 18:39:13.172000 | Price: 30234.01\n",
      "Time: 2023-06-28 18:39:13.347000 | Price: 30234.0\n",
      "Time: 2023-06-28 18:39:14.472000 | Price: 30234.01\n",
      "Time: 2023-06-28 18:39:15.918000 | Price: 30234.0\n",
      "Time: 2023-06-28 18:39:17.189000 | Price: 30234.0\n",
      "Time: 2023-06-28 18:39:17.459000 | Price: 30234.01\n",
      "Time: 2023-06-28 18:39:19.037000 | Price: 30234.0\n",
      "Time: 2023-06-28 18:39:19.549000 | Price: 30234.0\n",
      "Time: 2023-06-28 18:39:21.451000 | Price: 30234.01\n",
      "Time: 2023-06-28 18:39:22.381000 | Price: 30234.0\n",
      "Time: 2023-06-28 18:39:23.378000 | Price: 30234.0\n",
      "Time: 2023-06-28 18:39:23.968000 | Price: 30234.0\n",
      "Time: 2023-06-28 18:39:24.527000 | Price: 30234.0\n",
      "Time: 2023-06-28 18:39:26.064000 | Price: 30234.0\n",
      "Time: 2023-06-28 18:39:27.235000 | Price: 30234.0\n",
      "Time: 2023-06-28 18:39:28.307000 | Price: 30234.0\n",
      "Time: 2023-06-28 18:39:29.301000 | Price: 30234.0\n",
      "Time: 2023-06-28 18:39:30.446000 | Price: 30234.01\n",
      "Time: 2023-06-28 18:39:31.103000 | Price: 30234.0\n",
      "Time: 2023-06-28 18:39:32.027000 | Price: 30234.01\n",
      "Time: 2023-06-28 18:39:32.889000 | Price: 30234.01\n",
      "Time: 2023-06-28 18:39:34.537000 | Price: 30234.0\n",
      "Time: 2023-06-28 18:39:35.321000 | Price: 30234.0\n",
      "Time: 2023-06-28 18:39:36.281000 | Price: 30234.0\n",
      "Time: 2023-06-28 18:39:36.867000 | Price: 30234.0\n",
      "Time: 2023-06-28 18:39:37.911000 | Price: 30234.0\n",
      "Time: 2023-06-28 18:39:38.942000 | Price: 30234.01\n",
      "Time: 2023-06-28 18:39:40.326000 | Price: 30234.0\n",
      "Time: 2023-06-28 18:39:41.537000 | Price: 30234.01\n",
      "Time: 2023-06-28 18:39:42.188000 | Price: 30234.0\n",
      "Time: 2023-06-28 18:39:45.200000 | Price: 30234.0\n",
      "Time: 2023-06-28 18:39:46.091000 | Price: 30234.01\n",
      "Time: 2023-06-28 18:39:48.210000 | Price: 30234.0\n",
      "Time: 2023-06-28 18:39:49.436000 | Price: 30234.01\n",
      "Time: 2023-06-28 18:39:50.100000 | Price: 30234.0\n",
      "Time: 2023-06-28 18:39:51.030000 | Price: 30234.01\n",
      "Time: 2023-06-28 18:39:51.699000 | Price: 30234.0\n",
      "Time: 2023-06-28 18:39:53.898000 | Price: 30234.0\n",
      "Time: 2023-06-28 18:39:53.989000 | Price: 30234.01\n",
      "Time: 2023-06-28 18:39:55.098000 | Price: 30234.01\n",
      "Time: 2023-06-28 18:39:57.341000 | Price: 30234.0\n",
      "Time: 2023-06-28 18:39:58.200000 | Price: 30234.0\n",
      "Time: 2023-06-28 18:39:58.689000 | Price: 30234.01\n",
      "Time: 2023-06-28 18:40:00.018000 | Price: 30234.0\n",
      "Time: 2023-06-28 18:40:00.989000 | Price: 30234.01\n"
     ]
    }
   ],
   "source": [
    "client.get_account() #Test account detail"
   ]
  }
 ],
 "metadata": {
  "kernelspec": {
   "display_name": "Python 3 (ipykernel)",
   "language": "python",
   "name": "python3"
  },
  "language_info": {
   "codemirror_mode": {
    "name": "ipython",
    "version": 3
   },
   "file_extension": ".py",
   "mimetype": "text/x-python",
   "name": "python",
   "nbconvert_exporter": "python",
   "pygments_lexer": "ipython3",
   "version": "3.9.13"
  }
 },
 "nbformat": 4,
 "nbformat_minor": 5
}
